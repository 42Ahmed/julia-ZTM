{
 "cells": [
  {
   "cell_type": "markdown",
   "id": "f0cafe7f",
   "metadata": {},
   "source": [
    "# Variables "
   ]
  },
  {
   "cell_type": "code",
   "execution_count": 1,
   "id": "52a01c56",
   "metadata": {},
   "outputs": [
    {
     "data": {
      "text/plain": [
       "3"
      ]
     },
     "execution_count": 1,
     "metadata": {},
     "output_type": "execute_result"
    }
   ],
   "source": [
    "x = 3"
   ]
  },
  {
   "cell_type": "code",
   "execution_count": 2,
   "id": "be6466cf",
   "metadata": {},
   "outputs": [
    {
     "data": {
      "text/plain": [
       "7"
      ]
     },
     "execution_count": 2,
     "metadata": {},
     "output_type": "execute_result"
    }
   ],
   "source": [
    "y = 4\n",
    "x + y"
   ]
  },
  {
   "cell_type": "code",
   "execution_count": 38,
   "id": "f0a79033",
   "metadata": {},
   "outputs": [
    {
     "data": {
      "text/plain": [
       "3.14"
      ]
     },
     "execution_count": 38,
     "metadata": {},
     "output_type": "execute_result"
    }
   ],
   "source": [
    "const pi = 3.14"
   ]
  },
  {
   "cell_type": "markdown",
   "id": "577df94a",
   "metadata": {},
   "source": [
    "# Data types"
   ]
  },
  {
   "cell_type": "code",
   "execution_count": 2,
   "id": "ea14490a",
   "metadata": {},
   "outputs": [
    {
     "data": {
      "text/plain": [
       "Int64"
      ]
     },
     "execution_count": 2,
     "metadata": {},
     "output_type": "execute_result"
    }
   ],
   "source": [
    "typeof(10)"
   ]
  },
  {
   "cell_type": "code",
   "execution_count": 3,
   "id": "8df12b9c",
   "metadata": {},
   "outputs": [
    {
     "data": {
      "text/plain": [
       "Float64"
      ]
     },
     "execution_count": 3,
     "metadata": {},
     "output_type": "execute_result"
    }
   ],
   "source": [
    "typeof(3.14)"
   ]
  },
  {
   "cell_type": "code",
   "execution_count": 4,
   "id": "8e44c08c",
   "metadata": {},
   "outputs": [
    {
     "data": {
      "text/plain": [
       "String"
      ]
     },
     "execution_count": 4,
     "metadata": {},
     "output_type": "execute_result"
    }
   ],
   "source": [
    "typeof(\"Hello,world!\") #Sequence of characters"
   ]
  },
  {
   "cell_type": "code",
   "execution_count": 5,
   "id": "7e854ee0",
   "metadata": {},
   "outputs": [
    {
     "data": {
      "text/plain": [
       "Bool"
      ]
     },
     "execution_count": 5,
     "metadata": {},
     "output_type": "execute_result"
    }
   ],
   "source": [
    "typeof(true)"
   ]
  },
  {
   "cell_type": "code",
   "execution_count": 8,
   "id": "96acff97",
   "metadata": {},
   "outputs": [
    {
     "data": {
      "text/plain": [
       "Tuple{Int64, String, Float64}"
      ]
     },
     "execution_count": 8,
     "metadata": {},
     "output_type": "execute_result"
    }
   ],
   "source": [
    "typeof((1,\"hello\",3.14)) #Collection of values of different or same types"
   ]
  },
  {
   "cell_type": "code",
   "execution_count": 9,
   "id": "c3066e86",
   "metadata": {},
   "outputs": [
    {
     "data": {
      "text/plain": [
       "Vector{Int64}\u001b[90m (alias for \u001b[39m\u001b[90mArray{Int64, 1}\u001b[39m\u001b[90m)\u001b[39m"
      ]
     },
     "execution_count": 9,
     "metadata": {},
     "output_type": "execute_result"
    }
   ],
   "source": [
    "typeof([1,2,3,4]) #Collection of values of the same type"
   ]
  },
  {
   "cell_type": "code",
   "execution_count": 12,
   "id": "fa4206be",
   "metadata": {},
   "outputs": [
    {
     "data": {
      "text/plain": [
       "Set{Int64} with 4 elements:\n",
       "  4\n",
       "  2\n",
       "  3\n",
       "  1"
      ]
     },
     "execution_count": 12,
     "metadata": {},
     "output_type": "execute_result"
    }
   ],
   "source": [
    "typeof(Set([1,2,3,4,1]))\n",
    "Set([1,2,3,4,1]) #Collection of unique values"
   ]
  },
  {
   "cell_type": "code",
   "execution_count": 13,
   "id": "e8488c49",
   "metadata": {},
   "outputs": [
    {
     "data": {
      "text/plain": [
       "Complex{Int64}"
      ]
     },
     "execution_count": 13,
     "metadata": {},
     "output_type": "execute_result"
    }
   ],
   "source": [
    "typeof(1+2im)"
   ]
  },
  {
   "cell_type": "markdown",
   "id": "65c90377",
   "metadata": {},
   "source": [
    "# Operators"
   ]
  },
  {
   "cell_type": "markdown",
   "id": "22d521e5",
   "metadata": {},
   "source": [
    "## Arithmetic operators"
   ]
  },
  {
   "cell_type": "code",
   "execution_count": 14,
   "id": "e295b3b6",
   "metadata": {},
   "outputs": [
    {
     "data": {
      "text/plain": [
       "3"
      ]
     },
     "execution_count": 14,
     "metadata": {},
     "output_type": "execute_result"
    }
   ],
   "source": [
    "1+2 #addition"
   ]
  },
  {
   "cell_type": "code",
   "execution_count": 15,
   "id": "afb3eb0b",
   "metadata": {},
   "outputs": [
    {
     "data": {
      "text/plain": [
       "-1"
      ]
     },
     "execution_count": 15,
     "metadata": {},
     "output_type": "execute_result"
    }
   ],
   "source": [
    "1-2 #subtraction"
   ]
  },
  {
   "cell_type": "code",
   "execution_count": 16,
   "id": "2e495b6b",
   "metadata": {},
   "outputs": [
    {
     "data": {
      "text/plain": [
       "2"
      ]
     },
     "execution_count": 16,
     "metadata": {},
     "output_type": "execute_result"
    }
   ],
   "source": [
    "1*2 #multiplication"
   ]
  },
  {
   "cell_type": "code",
   "execution_count": 17,
   "id": "e644dbd3",
   "metadata": {},
   "outputs": [
    {
     "data": {
      "text/plain": [
       "0.5"
      ]
     },
     "execution_count": 17,
     "metadata": {},
     "output_type": "execute_result"
    }
   ],
   "source": [
    "1/2 #division"
   ]
  },
  {
   "cell_type": "code",
   "execution_count": 18,
   "id": "6ce6e39a",
   "metadata": {},
   "outputs": [
    {
     "data": {
      "text/plain": [
       "1"
      ]
     },
     "execution_count": 18,
     "metadata": {},
     "output_type": "execute_result"
    }
   ],
   "source": [
    "1^2 #exponential"
   ]
  },
  {
   "cell_type": "code",
   "execution_count": 19,
   "id": "44fe20ee",
   "metadata": {},
   "outputs": [
    {
     "data": {
      "text/plain": [
       "1"
      ]
     },
     "execution_count": 19,
     "metadata": {},
     "output_type": "execute_result"
    }
   ],
   "source": [
    "1%2 #modulo"
   ]
  },
  {
   "cell_type": "code",
   "execution_count": 20,
   "id": "1429f2cf",
   "metadata": {},
   "outputs": [
    {
     "data": {
      "text/plain": [
       "2.0"
      ]
     },
     "execution_count": 20,
     "metadata": {},
     "output_type": "execute_result"
    }
   ],
   "source": [
    "1\\2 #integer division"
   ]
  },
  {
   "cell_type": "markdown",
   "id": "037d8c98",
   "metadata": {},
   "source": [
    "## comparison operators"
   ]
  },
  {
   "cell_type": "code",
   "execution_count": 23,
   "id": "303f0a4b",
   "metadata": {},
   "outputs": [
    {
     "data": {
      "text/plain": [
       "true"
      ]
     },
     "execution_count": 23,
     "metadata": {},
     "output_type": "execute_result"
    }
   ],
   "source": [
    "5 == 5.0 #equality"
   ]
  },
  {
   "cell_type": "code",
   "execution_count": 24,
   "id": "9bb90229",
   "metadata": {},
   "outputs": [
    {
     "data": {
      "text/plain": [
       "true"
      ]
     },
     "execution_count": 24,
     "metadata": {},
     "output_type": "execute_result"
    }
   ],
   "source": [
    "4 != 5 #inequality"
   ]
  },
  {
   "cell_type": "code",
   "execution_count": 25,
   "id": "0a3dffd1",
   "metadata": {},
   "outputs": [
    {
     "data": {
      "text/plain": [
       "true"
      ]
     },
     "execution_count": 25,
     "metadata": {},
     "output_type": "execute_result"
    }
   ],
   "source": [
    "4 < 5 #less than"
   ]
  },
  {
   "cell_type": "code",
   "execution_count": 26,
   "id": "6e7e2d34",
   "metadata": {},
   "outputs": [
    {
     "data": {
      "text/plain": [
       "false"
      ]
     },
     "execution_count": 26,
     "metadata": {},
     "output_type": "execute_result"
    }
   ],
   "source": [
    "5 > 5 #greater than"
   ]
  },
  {
   "cell_type": "code",
   "execution_count": 27,
   "id": "c3c68a7f",
   "metadata": {},
   "outputs": [
    {
     "data": {
      "text/plain": [
       "true"
      ]
     },
     "execution_count": 27,
     "metadata": {},
     "output_type": "execute_result"
    }
   ],
   "source": [
    "5 <= 5 #less than or equal"
   ]
  },
  {
   "cell_type": "code",
   "execution_count": 28,
   "id": "fe6ba173",
   "metadata": {},
   "outputs": [
    {
     "data": {
      "text/plain": [
       "false"
      ]
     },
     "execution_count": 28,
     "metadata": {},
     "output_type": "execute_result"
    }
   ],
   "source": [
    "4 >= 5 #greater than or equal"
   ]
  },
  {
   "cell_type": "markdown",
   "id": "8101caf7",
   "metadata": {},
   "source": [
    "## Logical operators"
   ]
  },
  {
   "cell_type": "code",
   "execution_count": 30,
   "id": "5bac274b",
   "metadata": {},
   "outputs": [
    {
     "data": {
      "text/plain": [
       "false"
      ]
     },
     "execution_count": 30,
     "metadata": {},
     "output_type": "execute_result"
    }
   ],
   "source": [
    "a = true\n",
    "b = false\n",
    "a && b #and"
   ]
  },
  {
   "cell_type": "code",
   "execution_count": 31,
   "id": "a5081954",
   "metadata": {},
   "outputs": [
    {
     "data": {
      "text/plain": [
       "true"
      ]
     },
     "execution_count": 31,
     "metadata": {},
     "output_type": "execute_result"
    }
   ],
   "source": [
    "a || b #or"
   ]
  },
  {
   "cell_type": "code",
   "execution_count": 32,
   "id": "e8ebacf2",
   "metadata": {},
   "outputs": [
    {
     "data": {
      "text/plain": [
       "true"
      ]
     },
     "execution_count": 32,
     "metadata": {},
     "output_type": "execute_result"
    }
   ],
   "source": [
    "!b #not"
   ]
  },
  {
   "cell_type": "markdown",
   "id": "a673c661",
   "metadata": {},
   "source": [
    "## Assignment operators"
   ]
  },
  {
   "cell_type": "code",
   "execution_count": 33,
   "id": "c255bda6",
   "metadata": {},
   "outputs": [
    {
     "data": {
      "text/plain": [
       "5"
      ]
     },
     "execution_count": 33,
     "metadata": {},
     "output_type": "execute_result"
    }
   ],
   "source": [
    "x = 5\n",
    "x"
   ]
  },
  {
   "cell_type": "code",
   "execution_count": 34,
   "id": "1bcb27aa",
   "metadata": {},
   "outputs": [
    {
     "data": {
      "text/plain": [
       "8"
      ]
     },
     "execution_count": 34,
     "metadata": {},
     "output_type": "execute_result"
    }
   ],
   "source": [
    "x+=3"
   ]
  },
  {
   "cell_type": "code",
   "execution_count": 35,
   "id": "0c20b6e0",
   "metadata": {},
   "outputs": [
    {
     "data": {
      "text/plain": [
       "5"
      ]
     },
     "execution_count": 35,
     "metadata": {},
     "output_type": "execute_result"
    }
   ],
   "source": [
    "x-=3"
   ]
  },
  {
   "cell_type": "code",
   "execution_count": 36,
   "id": "c5c78157",
   "metadata": {},
   "outputs": [
    {
     "data": {
      "text/plain": [
       "15"
      ]
     },
     "execution_count": 36,
     "metadata": {},
     "output_type": "execute_result"
    }
   ],
   "source": [
    "x*=3"
   ]
  },
  {
   "cell_type": "code",
   "execution_count": 37,
   "id": "d22396c8",
   "metadata": {},
   "outputs": [
    {
     "data": {
      "text/plain": [
       "5.0"
      ]
     },
     "execution_count": 37,
     "metadata": {},
     "output_type": "execute_result"
    }
   ],
   "source": [
    "x/=3"
   ]
  },
  {
   "cell_type": "markdown",
   "id": "72be5db1",
   "metadata": {},
   "source": [
    "# Bitwise operators"
   ]
  },
  {
   "cell_type": "code",
   "execution_count": null,
   "id": "b3967708",
   "metadata": {},
   "outputs": [],
   "source": []
  },
  {
   "cell_type": "markdown",
   "id": "b86f0dc9",
   "metadata": {},
   "source": [
    " # Conditional statements"
   ]
  },
  {
   "cell_type": "raw",
   "id": "ca009409",
   "metadata": {},
   "source": [
    "if condition\n",
    "    # code to be executed when condition is true\n",
    "elseif condition\n",
    "    # code to be executed when the first condition is false and this condition is true\n",
    "else\n",
    "    # code to be executed when all previous conditions are false\n",
    "end\n"
   ]
  },
  {
   "cell_type": "markdown",
   "id": "97a9c079",
   "metadata": {},
   "source": [
    "Here, condition is any expression that returns a boolean value, either true or false. The if statement checks the value of the condition, and if it's true, the code inside the block following the if keyword will be executed. If it's false, the elseif and else blocks (if they exist) will be evaluated. If multiple conditions are used, only the first one that is true will be executed"
   ]
  },
  {
   "cell_type": "code",
   "execution_count": 42,
   "id": "96bb565d",
   "metadata": {},
   "outputs": [
    {
     "name": "stdout",
     "output_type": "stream",
     "text": [
      "x is positive\n"
     ]
    }
   ],
   "source": [
    "x = 5\n",
    "if x > 0\n",
    "    println(\"x is positive\")\n",
    "elseif x < 0\n",
    "    print(\"x is negative\")\n",
    "else\n",
    "    println(\"x is zero\")\n",
    "end"
   ]
  },
  {
   "cell_type": "markdown",
   "id": "fcc85bd6",
   "metadata": {},
   "source": [
    "# Loops"
   ]
  },
  {
   "cell_type": "raw",
   "id": "a018419c",
   "metadata": {},
   "source": [
    "for variable in range\n",
    "    # code to be executed for each iteration of the loop\n",
    "end\n"
   ]
  },
  {
   "cell_type": "code",
   "execution_count": 55,
   "id": "756efcc8",
   "metadata": {},
   "outputs": [
    {
     "name": "stdout",
     "output_type": "stream",
     "text": [
      "1\n",
      "2\n",
      "3\n",
      "4\n",
      "5\n"
     ]
    }
   ],
   "source": [
    "for i in 1:5\n",
    "    println(i)\n",
    "end"
   ]
  },
  {
   "cell_type": "code",
   "execution_count": 56,
   "id": "33236e40",
   "metadata": {},
   "outputs": [
    {
     "name": "stdout",
     "output_type": "stream",
     "text": [
      "5050\n"
     ]
    }
   ],
   "source": [
    "sum = 0\n",
    "for i in 1:100\n",
    "    sum = sum + i\n",
    "end\n",
    "println(sum)\n"
   ]
  },
  {
   "cell_type": "code",
   "execution_count": 57,
   "id": "6b1e54de",
   "metadata": {},
   "outputs": [
    {
     "name": "stdout",
     "output_type": "stream",
     "text": [
      "1\n",
      "2\n",
      "3\n",
      "4\n",
      "5\n"
     ]
    }
   ],
   "source": [
    "arr = [1, 2, 3, 4, 5]\n",
    "for i in arr\n",
    "    println(i)\n",
    "end\n"
   ]
  },
  {
   "cell_type": "code",
   "execution_count": 58,
   "id": "156b3949",
   "metadata": {},
   "outputs": [
    {
     "name": "stdout",
     "output_type": "stream",
     "text": [
      "1: apple\n",
      "2: banana\n",
      "3: cherry\n"
     ]
    }
   ],
   "source": [
    "arr = [\"apple\", \"banana\", \"cherry\"]\n",
    "for (i, fruit) in enumerate(arr)\n",
    "    println(\"$i: $fruit\")\n",
    "end\n"
   ]
  },
  {
   "cell_type": "code",
   "execution_count": 60,
   "id": "34588bbc",
   "metadata": {},
   "outputs": [
    {
     "name": "stdout",
     "output_type": "stream",
     "text": [
      "1\n",
      "2\n",
      "3\n",
      "4\n"
     ]
    }
   ],
   "source": [
    "for i in 1:100\n",
    "    if i == 5\n",
    "        break\n",
    "    end\n",
    "    println(i)\n",
    "end\n"
   ]
  },
  {
   "cell_type": "raw",
   "id": "071eddd7",
   "metadata": {},
   "source": [
    "while condition\n",
    "    # code to be executed for each iteration of the loop\n",
    "end\n"
   ]
  },
  {
   "cell_type": "code",
   "execution_count": 44,
   "id": "4d9958e2",
   "metadata": {},
   "outputs": [
    {
     "name": "stdout",
     "output_type": "stream",
     "text": [
      "1\n",
      "2\n",
      "3\n",
      "4\n",
      "5\n"
     ]
    }
   ],
   "source": [
    "i = 1\n",
    "while i <= 5\n",
    "    println(i)\n",
    "    i = i + 1\n",
    "end\n"
   ]
  },
  {
   "cell_type": "code",
   "execution_count": 61,
   "id": "b4c67928",
   "metadata": {},
   "outputs": [
    {
     "name": "stdout",
     "output_type": "stream",
     "text": [
      "The count is: 1\n",
      "The count is: 2\n",
      "The count is: 3\n",
      "The count is: 4\n",
      "The count is: 5\n"
     ]
    }
   ],
   "source": [
    "count = 0\n",
    "while count < 5\n",
    "    count += 1\n",
    "    println(\"The count is: \", count)\n",
    "end\n"
   ]
  },
  {
   "cell_type": "code",
   "execution_count": 62,
   "id": "3d88725b",
   "metadata": {},
   "outputs": [
    {
     "name": "stdout",
     "output_type": "stream",
     "text": [
      "The sum of the numbers from 1 to 10 is: 55\n"
     ]
    }
   ],
   "source": [
    "sum = 0\n",
    "count = 1\n",
    "while count <= 10\n",
    "    sum += count\n",
    "    count += 1\n",
    "end\n",
    "println(\"The sum of the numbers from 1 to 10 is: \", sum)\n"
   ]
  },
  {
   "cell_type": "markdown",
   "id": "e9690f0f",
   "metadata": {},
   "source": [
    "# Functions"
   ]
  },
  {
   "cell_type": "code",
   "execution_count": 63,
   "id": "714153e7",
   "metadata": {},
   "outputs": [
    {
     "data": {
      "text/plain": [
       "4.0"
      ]
     },
     "execution_count": 63,
     "metadata": {},
     "output_type": "execute_result"
    }
   ],
   "source": [
    "sqrt(16)"
   ]
  },
  {
   "cell_type": "code",
   "execution_count": 64,
   "id": "1c01aba4",
   "metadata": {},
   "outputs": [
    {
     "data": {
      "text/plain": [
       "5"
      ]
     },
     "execution_count": 64,
     "metadata": {},
     "output_type": "execute_result"
    }
   ],
   "source": [
    "length(\"Julia\")"
   ]
  },
  {
   "cell_type": "raw",
   "id": "92fc55e7",
   "metadata": {},
   "source": [
    "function name_of_function(arg1, arg2, ...)\n",
    "    # function body\n",
    "    # returns output (optional)\n",
    "end\n"
   ]
  },
  {
   "cell_type": "code",
   "execution_count": 45,
   "id": "96a0c7b3",
   "metadata": {},
   "outputs": [
    {
     "data": {
      "text/plain": [
       "add (generic function with 1 method)"
      ]
     },
     "execution_count": 45,
     "metadata": {},
     "output_type": "execute_result"
    }
   ],
   "source": [
    "function add(a,b)\n",
    "    c = a+b\n",
    "    return c\n",
    "end"
   ]
  },
  {
   "cell_type": "code",
   "execution_count": 46,
   "id": "49fa980e",
   "metadata": {},
   "outputs": [
    {
     "data": {
      "text/plain": [
       "4"
      ]
     },
     "execution_count": 46,
     "metadata": {},
     "output_type": "execute_result"
    }
   ],
   "source": [
    "z = add(1,3)"
   ]
  },
  {
   "cell_type": "code",
   "execution_count": 47,
   "id": "80c0c93e",
   "metadata": {},
   "outputs": [
    {
     "data": {
      "text/plain": [
       "absolute_value (generic function with 1 method)"
      ]
     },
     "execution_count": 47,
     "metadata": {},
     "output_type": "execute_result"
    }
   ],
   "source": [
    "function absolute_value(x)\n",
    "    if x >= 0\n",
    "        return x\n",
    "    else\n",
    "        return -x\n",
    "    end\n",
    "end\n"
   ]
  },
  {
   "cell_type": "code",
   "execution_count": 48,
   "id": "0f51bed0",
   "metadata": {},
   "outputs": [
    {
     "data": {
      "text/plain": [
       "5"
      ]
     },
     "execution_count": 48,
     "metadata": {},
     "output_type": "execute_result"
    }
   ],
   "source": [
    "absolute_value(-5)"
   ]
  },
  {
   "cell_type": "code",
   "execution_count": 49,
   "id": "04a8b9b8",
   "metadata": {},
   "outputs": [
    {
     "data": {
      "text/plain": [
       "factorial (generic function with 1 method)"
      ]
     },
     "execution_count": 49,
     "metadata": {},
     "output_type": "execute_result"
    }
   ],
   "source": [
    "function factorial(n)\n",
    "    result = 1\n",
    "    for i in 1:n\n",
    "        result *= i\n",
    "    end\n",
    "    return result\n",
    "end\n"
   ]
  },
  {
   "cell_type": "code",
   "execution_count": 50,
   "id": "fbd3d24c",
   "metadata": {},
   "outputs": [
    {
     "data": {
      "text/plain": [
       "120"
      ]
     },
     "execution_count": 50,
     "metadata": {},
     "output_type": "execute_result"
    }
   ],
   "source": [
    "factorial(5)"
   ]
  },
  {
   "cell_type": "code",
   "execution_count": 51,
   "id": "4dc1f22d",
   "metadata": {},
   "outputs": [
    {
     "data": {
      "text/plain": [
       "maximum (generic function with 1 method)"
      ]
     },
     "execution_count": 51,
     "metadata": {},
     "output_type": "execute_result"
    }
   ],
   "source": [
    "function maximum(a, b)\n",
    "    if a > b\n",
    "        return a\n",
    "    else\n",
    "        return b\n",
    "    end\n",
    "end\n"
   ]
  },
  {
   "cell_type": "code",
   "execution_count": 52,
   "id": "34639843",
   "metadata": {},
   "outputs": [
    {
     "data": {
      "text/plain": [
       "5"
      ]
     },
     "execution_count": 52,
     "metadata": {},
     "output_type": "execute_result"
    }
   ],
   "source": [
    "maximum(3,5)"
   ]
  },
  {
   "cell_type": "code",
   "execution_count": 53,
   "id": "9f177cd4",
   "metadata": {},
   "outputs": [
    {
     "data": {
      "text/plain": [
       "minimum (generic function with 1 method)"
      ]
     },
     "execution_count": 53,
     "metadata": {},
     "output_type": "execute_result"
    }
   ],
   "source": [
    "function minimum(a, b)\n",
    "    if a < b\n",
    "        return a\n",
    "    else\n",
    "        return b\n",
    "    end\n",
    "end\n"
   ]
  },
  {
   "cell_type": "code",
   "execution_count": 54,
   "id": "7d978c92",
   "metadata": {},
   "outputs": [
    {
     "data": {
      "text/plain": [
       "1"
      ]
     },
     "execution_count": 54,
     "metadata": {},
     "output_type": "execute_result"
    }
   ],
   "source": [
    "minimum(1,2)"
   ]
  },
  {
   "cell_type": "markdown",
   "id": "002f98c4",
   "metadata": {},
   "source": [
    "## Anonymous functions\n",
    "lamda function"
   ]
  },
  {
   "cell_type": "code",
   "execution_count": 67,
   "id": "cb2063ad",
   "metadata": {},
   "outputs": [
    {
     "data": {
      "text/plain": [
       "7"
      ]
     },
     "execution_count": 67,
     "metadata": {},
     "output_type": "execute_result"
    }
   ],
   "source": [
    "add2 = (x,y) -> x+y\n",
    "add2(3,4)"
   ]
  },
  {
   "cell_type": "markdown",
   "id": "d2d1eb3a",
   "metadata": {},
   "source": [
    "# Arrays and matrices"
   ]
  },
  {
   "cell_type": "code",
   "execution_count": 1,
   "id": "231f9786",
   "metadata": {},
   "outputs": [
    {
     "data": {
      "text/plain": [
       "5-element Vector{Int64}:\n",
       " 1\n",
       " 2\n",
       " 3\n",
       " 4\n",
       " 5"
      ]
     },
     "execution_count": 1,
     "metadata": {},
     "output_type": "execute_result"
    }
   ],
   "source": [
    "a = [1, 2, 3, 4, 5]"
   ]
  },
  {
   "cell_type": "code",
   "execution_count": 10,
   "id": "95d62c7b",
   "metadata": {},
   "outputs": [
    {
     "data": {
      "text/plain": [
       "5-element Vector{Float64}:\n",
       " 1.0\n",
       " 2.0\n",
       " 3.0\n",
       " 3.0\n",
       " 5.0"
      ]
     },
     "execution_count": 10,
     "metadata": {},
     "output_type": "execute_result"
    }
   ],
   "source": [
    "b = [1.0,2.0,3.0,3.0,5.0]"
   ]
  },
  {
   "cell_type": "code",
   "execution_count": 11,
   "id": "20613333",
   "metadata": {},
   "outputs": [
    {
     "data": {
      "text/plain": [
       "3"
      ]
     },
     "execution_count": 11,
     "metadata": {},
     "output_type": "execute_result"
    }
   ],
   "source": [
    "a[3]"
   ]
  },
  {
   "cell_type": "code",
   "execution_count": 12,
   "id": "cad62760",
   "metadata": {},
   "outputs": [
    {
     "data": {
      "text/plain": [
       "3-element Vector{Int64}:\n",
       " 3\n",
       " 4\n",
       " 5"
      ]
     },
     "execution_count": 12,
     "metadata": {},
     "output_type": "execute_result"
    }
   ],
   "source": [
    "a[3:5]"
   ]
  },
  {
   "cell_type": "code",
   "execution_count": 13,
   "id": "fe6b8706",
   "metadata": {},
   "outputs": [
    {
     "data": {
      "text/plain": [
       "1"
      ]
     },
     "execution_count": 13,
     "metadata": {},
     "output_type": "execute_result"
    }
   ],
   "source": [
    "a[1] #indexing starts from 1"
   ]
  },
  {
   "cell_type": "code",
   "execution_count": 14,
   "id": "2ca14300",
   "metadata": {},
   "outputs": [
    {
     "data": {
      "text/plain": [
       "5-element Vector{Float64}:\n",
       "  2.0\n",
       "  4.0\n",
       "  6.0\n",
       "  7.0\n",
       " 10.0"
      ]
     },
     "execution_count": 14,
     "metadata": {},
     "output_type": "execute_result"
    }
   ],
   "source": [
    "a+b"
   ]
  },
  {
   "cell_type": "code",
   "execution_count": 16,
   "id": "ffd6545c",
   "metadata": {},
   "outputs": [
    {
     "data": {
      "text/plain": [
       "5-element Vector{Float64}:\n",
       "  2.0\n",
       "  4.0\n",
       "  6.0\n",
       "  7.0\n",
       " 10.0"
      ]
     },
     "execution_count": 16,
     "metadata": {},
     "output_type": "execute_result"
    }
   ],
   "source": [
    "a .+ b"
   ]
  },
  {
   "cell_type": "code",
   "execution_count": 17,
   "id": "944f6f6f",
   "metadata": {},
   "outputs": [
    {
     "data": {
      "text/plain": [
       "5-element Vector{Float64}:\n",
       "  1.0\n",
       "  4.0\n",
       "  9.0\n",
       " 12.0\n",
       " 25.0"
      ]
     },
     "execution_count": 17,
     "metadata": {},
     "output_type": "execute_result"
    }
   ],
   "source": [
    "a.*b #element wise multiplication"
   ]
  },
  {
   "cell_type": "code",
   "execution_count": 21,
   "id": "1ee40036",
   "metadata": {},
   "outputs": [
    {
     "data": {
      "text/plain": [
       "2×2 Matrix{Int64}:\n",
       " 1  2\n",
       " 3  4"
      ]
     },
     "execution_count": 21,
     "metadata": {},
     "output_type": "execute_result"
    }
   ],
   "source": [
    "A= [1 2; 3 4]"
   ]
  },
  {
   "cell_type": "code",
   "execution_count": 22,
   "id": "0ec515e2",
   "metadata": {},
   "outputs": [
    {
     "data": {
      "text/plain": [
       "2×2 Matrix{Int64}:\n",
       " 5  6\n",
       " 7  8"
      ]
     },
     "execution_count": 22,
     "metadata": {},
     "output_type": "execute_result"
    }
   ],
   "source": [
    "B = [5 6; 7 8]"
   ]
  },
  {
   "cell_type": "code",
   "execution_count": 23,
   "id": "6a7aadd4",
   "metadata": {},
   "outputs": [
    {
     "data": {
      "text/plain": [
       "2×2 Matrix{Int64}:\n",
       "  6   8\n",
       " 10  12"
      ]
     },
     "execution_count": 23,
     "metadata": {},
     "output_type": "execute_result"
    }
   ],
   "source": [
    "A+B"
   ]
  },
  {
   "cell_type": "code",
   "execution_count": 25,
   "id": "b61a70c7",
   "metadata": {},
   "outputs": [
    {
     "data": {
      "text/plain": [
       "2×2 transpose(::Matrix{Int64}) with eltype Int64:\n",
       " 1  3\n",
       " 2  4"
      ]
     },
     "execution_count": 25,
     "metadata": {},
     "output_type": "execute_result"
    }
   ],
   "source": [
    "transpose(A)"
   ]
  },
  {
   "cell_type": "code",
   "execution_count": 26,
   "id": "426f6c43",
   "metadata": {},
   "outputs": [
    {
     "data": {
      "text/plain": [
       "2×2 Matrix{Float64}:\n",
       " -2.0   1.0\n",
       "  1.5  -0.5"
      ]
     },
     "execution_count": 26,
     "metadata": {},
     "output_type": "execute_result"
    }
   ],
   "source": [
    "inv(A)"
   ]
  },
  {
   "cell_type": "code",
   "execution_count": 29,
   "id": "20ed606a",
   "metadata": {},
   "outputs": [
    {
     "data": {
      "text/plain": [
       "-2.0"
      ]
     },
     "execution_count": 29,
     "metadata": {},
     "output_type": "execute_result"
    }
   ],
   "source": [
    "using LinearAlgebra\n",
    "det(A)"
   ]
  },
  {
   "cell_type": "code",
   "execution_count": 30,
   "id": "d0103d60",
   "metadata": {},
   "outputs": [
    {
     "data": {
      "text/plain": [
       "70"
      ]
     },
     "execution_count": 30,
     "metadata": {},
     "output_type": "execute_result"
    }
   ],
   "source": [
    "dot(A,B)"
   ]
  },
  {
   "cell_type": "code",
   "execution_count": 31,
   "id": "8e083ffe",
   "metadata": {},
   "outputs": [
    {
     "data": {
      "text/plain": [
       "2×2 Matrix{Int64}:\n",
       " 19  22\n",
       " 43  50"
      ]
     },
     "execution_count": 31,
     "metadata": {},
     "output_type": "execute_result"
    }
   ],
   "source": [
    "A * B"
   ]
  },
  {
   "cell_type": "code",
   "execution_count": 36,
   "id": "0f5633d8",
   "metadata": {},
   "outputs": [
    {
     "data": {
      "text/plain": [
       "3-element Vector{Int64}:\n",
       " 1\n",
       " 2\n",
       " 3"
      ]
     },
     "execution_count": 36,
     "metadata": {},
     "output_type": "execute_result"
    }
   ],
   "source": [
    "A = [1 2 3; 4 5 6; 7 8 9]\n",
    "A[1,:] # access all of first row"
   ]
  },
  {
   "cell_type": "code",
   "execution_count": 39,
   "id": "a9331e33",
   "metadata": {},
   "outputs": [
    {
     "data": {
      "text/plain": [
       "3-element Vector{Int64}:\n",
       " 2\n",
       " 5\n",
       " 8"
      ]
     },
     "execution_count": 39,
     "metadata": {},
     "output_type": "execute_result"
    }
   ],
   "source": [
    "A[:,2] # access all of second column"
   ]
  },
  {
   "cell_type": "code",
   "execution_count": 40,
   "id": "c91d3890",
   "metadata": {},
   "outputs": [
    {
     "data": {
      "text/plain": [
       "2"
      ]
     },
     "execution_count": 40,
     "metadata": {},
     "output_type": "execute_result"
    }
   ],
   "source": [
    "A[1,2]"
   ]
  },
  {
   "cell_type": "code",
   "execution_count": 41,
   "id": "482945ba",
   "metadata": {},
   "outputs": [
    {
     "data": {
      "text/plain": [
       "2×2 Matrix{Int64}:\n",
       " 4  5\n",
       " 7  8"
      ]
     },
     "execution_count": 41,
     "metadata": {},
     "output_type": "execute_result"
    }
   ],
   "source": [
    "A[2:3,1:2]"
   ]
  },
  {
   "cell_type": "markdown",
   "id": "410decbc",
   "metadata": {},
   "source": [
    "# Broadcasting and vectorization"
   ]
  },
  {
   "cell_type": "code",
   "execution_count": 46,
   "id": "157fabd4",
   "metadata": {},
   "outputs": [
    {
     "data": {
      "text/plain": [
       "2"
      ]
     },
     "execution_count": 46,
     "metadata": {},
     "output_type": "execute_result"
    }
   ],
   "source": [
    "a = [1,2,3,4]\n",
    "b = 2"
   ]
  },
  {
   "cell_type": "code",
   "execution_count": 49,
   "id": "15e56cdc",
   "metadata": {},
   "outputs": [
    {
     "data": {
      "text/plain": [
       "4-element Vector{Int64}:\n",
       " 3\n",
       " 4\n",
       " 5\n",
       " 6"
      ]
     },
     "execution_count": 49,
     "metadata": {},
     "output_type": "execute_result"
    }
   ],
   "source": [
    "#a + b  wont work\n",
    "a .+b # will broadcast b into [2,2,2,2]"
   ]
  },
  {
   "cell_type": "code",
   "execution_count": 50,
   "id": "7fe993ff",
   "metadata": {},
   "outputs": [
    {
     "data": {
      "text/plain": [
       "2-element Vector{Int64}:\n",
       " 2\n",
       " 3"
      ]
     },
     "execution_count": 50,
     "metadata": {},
     "output_type": "execute_result"
    }
   ],
   "source": [
    "a = [1 2; 3 4]\n",
    "b = [2,3]"
   ]
  },
  {
   "cell_type": "code",
   "execution_count": 52,
   "id": "4c15fa41",
   "metadata": {},
   "outputs": [
    {
     "data": {
      "text/plain": [
       "2×2 Matrix{Int64}:\n",
       " 3  4\n",
       " 6  7"
      ]
     },
     "execution_count": 52,
     "metadata": {},
     "output_type": "execute_result"
    }
   ],
   "source": [
    "# a + b wont work\n",
    "a .+ b # will broadcast b"
   ]
  },
  {
   "cell_type": "markdown",
   "id": "8703c7c8",
   "metadata": {},
   "source": [
    "# Advanced programming concepts in Julia"
   ]
  },
  {
   "cell_type": "markdown",
   "id": "966437aa",
   "metadata": {},
   "source": [
    "# Types and type hierarchy"
   ]
  },
  {
   "cell_type": "code",
   "execution_count": 53,
   "id": "5d9460a6",
   "metadata": {},
   "outputs": [
    {
     "data": {
      "text/plain": [
       "true"
      ]
     },
     "execution_count": 53,
     "metadata": {},
     "output_type": "execute_result"
    }
   ],
   "source": [
    "Integer <: Real <: Number"
   ]
  },
  {
   "cell_type": "code",
   "execution_count": 54,
   "id": "f5cdb659",
   "metadata": {},
   "outputs": [
    {
     "data": {
      "text/plain": [
       "false"
      ]
     },
     "execution_count": 54,
     "metadata": {},
     "output_type": "execute_result"
    }
   ],
   "source": [
    "Number <: Real"
   ]
  },
  {
   "cell_type": "code",
   "execution_count": 55,
   "id": "ab5a8ac8",
   "metadata": {},
   "outputs": [
    {
     "data": {
      "text/plain": [
       "true"
      ]
     },
     "execution_count": 55,
     "metadata": {},
     "output_type": "execute_result"
    }
   ],
   "source": [
    "Number >: Real"
   ]
  },
  {
   "cell_type": "code",
   "execution_count": null,
   "id": "8c162185",
   "metadata": {},
   "outputs": [],
   "source": []
  },
  {
   "cell_type": "code",
   "execution_count": null,
   "id": "94346225",
   "metadata": {},
   "outputs": [],
   "source": []
  },
  {
   "cell_type": "markdown",
   "id": "9cc6f39b",
   "metadata": {},
   "source": [
    "# Metaprogramming and macros"
   ]
  },
  {
   "cell_type": "code",
   "execution_count": null,
   "id": "6c3004fe",
   "metadata": {},
   "outputs": [],
   "source": []
  },
  {
   "cell_type": "code",
   "execution_count": null,
   "id": "47d004f0",
   "metadata": {},
   "outputs": [],
   "source": []
  },
  {
   "cell_type": "code",
   "execution_count": null,
   "id": "1f73e41a",
   "metadata": {},
   "outputs": [],
   "source": []
  },
  {
   "cell_type": "code",
   "execution_count": null,
   "id": "e3767580",
   "metadata": {},
   "outputs": [],
   "source": []
  },
  {
   "cell_type": "markdown",
   "id": "30438266",
   "metadata": {},
   "source": [
    "# Parallel computing and multi-threading"
   ]
  },
  {
   "cell_type": "code",
   "execution_count": null,
   "id": "470e03a3",
   "metadata": {},
   "outputs": [],
   "source": []
  },
  {
   "cell_type": "code",
   "execution_count": null,
   "id": "30465b1e",
   "metadata": {},
   "outputs": [],
   "source": []
  },
  {
   "cell_type": "code",
   "execution_count": null,
   "id": "21c0c1c9",
   "metadata": {},
   "outputs": [],
   "source": []
  },
  {
   "cell_type": "markdown",
   "id": "9737e3c1",
   "metadata": {},
   "source": [
    "# Interfacing with other languages (e.g. C, Python)"
   ]
  },
  {
   "cell_type": "code",
   "execution_count": 58,
   "id": "c780fec6",
   "metadata": {},
   "outputs": [
    {
     "name": "stdout",
     "output_type": "stream",
     "text": [
      "The square root of 16 is 4.0\n"
     ]
    }
   ],
   "source": [
    "using PyCall\n",
    "math = pyimport(\"math\")\n",
    "result = math.sqrt(16)\n",
    "\n",
    "println(\"The square root of 16 is $(result)\")\n"
   ]
  },
  {
   "cell_type": "code",
   "execution_count": 61,
   "id": "8c1a58a0",
   "metadata": {},
   "outputs": [
    {
     "name": "stdout",
     "output_type": "stream",
     "text": [
      "The NumPy array is: \n",
      " [1 2; 3 4]\n"
     ]
    }
   ],
   "source": [
    "using PyCall\n",
    "np = pyimport(\"numpy\")\n",
    "array = np.array([[1, 2], [3, 4]])\n",
    "println(\"The NumPy array is: \\n $(array)\")\n"
   ]
  },
  {
   "cell_type": "code",
   "execution_count": 62,
   "id": "48d86d07",
   "metadata": {},
   "outputs": [
    {
     "name": "stderr",
     "output_type": "stream",
     "text": [
      "\u001b[33m\u001b[1m┌ \u001b[22m\u001b[39m\u001b[33m\u001b[1mWarning: \u001b[22m\u001b[39mRCall.jl: During startup - Warning message:\n",
      "\u001b[33m\u001b[1m│ \u001b[22m\u001b[39mpackage 'stats' in options(\"defaultPackages\") was not found \n",
      "\u001b[33m\u001b[1m└ \u001b[22m\u001b[39m\u001b[90m@ RCall C:\\Users\\Ahmed\\.julia\\packages\\RCall\\Wyd74\\src\\io.jl:172\u001b[39m\n"
     ]
    },
    {
     "data": {
      "text/plain": [
       "RObject{RealSxp}\n",
       "[1] 2\n"
      ]
     },
     "execution_count": 62,
     "metadata": {},
     "output_type": "execute_result"
    }
   ],
   "source": [
    "using RCall\n",
    "R\"\"\"\n",
    "x <- c(1,2,3)\n",
    "mean(x)\n",
    "\"\"\"\n"
   ]
  },
  {
   "cell_type": "markdown",
   "id": "044da83e",
   "metadata": {},
   "source": [
    "# Working with packages and libraries"
   ]
  },
  {
   "cell_type": "markdown",
   "id": "58b9d124",
   "metadata": {},
   "source": [
    "# Data analysis and visualization"
   ]
  },
  {
   "cell_type": "markdown",
   "id": "f91ccce0",
   "metadata": {},
   "source": [
    "DataFrames\n",
    "StatsBase\n",
    "GLM\n",
    "Plots"
   ]
  },
  {
   "cell_type": "markdown",
   "id": "1474ea7a",
   "metadata": {},
   "source": [
    "# DataFrames"
   ]
  },
  {
   "cell_type": "code",
   "execution_count": 63,
   "id": "0c71e625",
   "metadata": {},
   "outputs": [],
   "source": [
    "using DataFrames"
   ]
  },
  {
   "cell_type": "code",
   "execution_count": 64,
   "id": "21d4fe3a",
   "metadata": {},
   "outputs": [
    {
     "data": {
      "text/html": [
       "<div><div style = \"float: left;\"><span>0×0 DataFrame</span></div><div style = \"clear: both;\"></div></div><div class = \"data-frame\" style = \"overflow-x: scroll;\"><table class = \"data-frame\" style = \"margin-bottom: 6px;\"></table></div>"
      ],
      "text/latex": [
       "\\begin{tabular}{r|}\n",
       "\t& \\\\\n",
       "\t\\hline\n",
       "\t& \\\\\n",
       "\t\\hline\n",
       "\\end{tabular}\n"
      ],
      "text/plain": [
       "\u001b[1m0×0 DataFrame\u001b[0m"
      ]
     },
     "execution_count": 64,
     "metadata": {},
     "output_type": "execute_result"
    }
   ],
   "source": [
    "DataFrame()"
   ]
  },
  {
   "cell_type": "code",
   "execution_count": 65,
   "id": "fc159efb",
   "metadata": {},
   "outputs": [
    {
     "data": {
      "text/html": [
       "<div><div style = \"float: left;\"><span>3×3 DataFrame</span></div><div style = \"clear: both;\"></div></div><div class = \"data-frame\" style = \"overflow-x: scroll;\"><table class = \"data-frame\" style = \"margin-bottom: 6px;\"><thead><tr class = \"header\"><th class = \"rowNumber\" style = \"font-weight: bold; text-align: right;\">Row</th><th style = \"text-align: left;\">A</th><th style = \"text-align: left;\">B</th><th style = \"text-align: left;\">fixed</th></tr><tr class = \"subheader headerLastRow\"><th class = \"rowNumber\" style = \"font-weight: bold; text-align: right;\"></th><th title = \"Int64\" style = \"text-align: left;\">Int64</th><th title = \"Int64\" style = \"text-align: left;\">Int64</th><th title = \"Int64\" style = \"text-align: left;\">Int64</th></tr></thead><tbody><tr><td class = \"rowNumber\" style = \"font-weight: bold; text-align: right;\">1</td><td style = \"text-align: right;\">1</td><td style = \"text-align: right;\">5</td><td style = \"text-align: right;\">1</td></tr><tr><td class = \"rowNumber\" style = \"font-weight: bold; text-align: right;\">2</td><td style = \"text-align: right;\">2</td><td style = \"text-align: right;\">6</td><td style = \"text-align: right;\">1</td></tr><tr><td class = \"rowNumber\" style = \"font-weight: bold; text-align: right;\">3</td><td style = \"text-align: right;\">3</td><td style = \"text-align: right;\">7</td><td style = \"text-align: right;\">1</td></tr></tbody></table></div>"
      ],
      "text/latex": [
       "\\begin{tabular}{r|ccc}\n",
       "\t& A & B & fixed\\\\\n",
       "\t\\hline\n",
       "\t& Int64 & Int64 & Int64\\\\\n",
       "\t\\hline\n",
       "\t1 & 1 & 5 & 1 \\\\\n",
       "\t2 & 2 & 6 & 1 \\\\\n",
       "\t3 & 3 & 7 & 1 \\\\\n",
       "\\end{tabular}\n"
      ],
      "text/plain": [
       "\u001b[1m3×3 DataFrame\u001b[0m\n",
       "\u001b[1m Row \u001b[0m│\u001b[1m A     \u001b[0m\u001b[1m B     \u001b[0m\u001b[1m fixed \u001b[0m\n",
       "     │\u001b[90m Int64 \u001b[0m\u001b[90m Int64 \u001b[0m\u001b[90m Int64 \u001b[0m\n",
       "─────┼─────────────────────\n",
       "   1 │     1      5      1\n",
       "   2 │     2      6      1\n",
       "   3 │     3      7      1"
      ]
     },
     "execution_count": 65,
     "metadata": {},
     "output_type": "execute_result"
    }
   ],
   "source": [
    "DataFrame(A=1:3, B=5:7, fixed=1)"
   ]
  },
  {
   "cell_type": "code",
   "execution_count": null,
   "id": "e8b513ba",
   "metadata": {},
   "outputs": [],
   "source": []
  },
  {
   "cell_type": "code",
   "execution_count": null,
   "id": "660f4641",
   "metadata": {},
   "outputs": [],
   "source": []
  },
  {
   "cell_type": "code",
   "execution_count": null,
   "id": "3023b7a5",
   "metadata": {},
   "outputs": [],
   "source": []
  },
  {
   "cell_type": "code",
   "execution_count": null,
   "id": "dadb37be",
   "metadata": {},
   "outputs": [],
   "source": []
  },
  {
   "cell_type": "code",
   "execution_count": null,
   "id": "1741b14f",
   "metadata": {},
   "outputs": [],
   "source": []
  },
  {
   "cell_type": "code",
   "execution_count": null,
   "id": "823c44f6",
   "metadata": {},
   "outputs": [],
   "source": []
  },
  {
   "cell_type": "markdown",
   "id": "5d352e92",
   "metadata": {},
   "source": [
    "# Reading and writing data"
   ]
  },
  {
   "cell_type": "markdown",
   "id": "e311a85c",
   "metadata": {},
   "source": [
    "# Cleaning and preprocessing data"
   ]
  },
  {
   "cell_type": "markdown",
   "id": "3b432355",
   "metadata": {},
   "source": [
    "# Exploratory data analysis"
   ]
  },
  {
   "cell_type": "markdown",
   "id": "27b53d76",
   "metadata": {},
   "source": [
    "# Data visualization with Plots.jl and other libraries"
   ]
  },
  {
   "cell_type": "markdown",
   "id": "cdc4bf63",
   "metadata": {},
   "source": [
    "# Scientific computing"
   ]
  },
  {
   "cell_type": "markdown",
   "id": "af835834",
   "metadata": {},
   "source": [
    "# Numerical methods and linear algebra"
   ]
  },
  {
   "cell_type": "markdown",
   "id": "ae5db177",
   "metadata": {},
   "source": [
    "# Optimization and root finding"
   ]
  },
  {
   "cell_type": "markdown",
   "id": "ad8fb788",
   "metadata": {},
   "source": [
    "### Unconstrained optimization\n"
   ]
  },
  {
   "cell_type": "code",
   "execution_count": 69,
   "id": "0d51f997",
   "metadata": {},
   "outputs": [
    {
     "name": "stdout",
     "output_type": "stream",
     "text": [
      "The minimum of the function is: -1727.9999044278736\n",
      "The optimal x value is: -9.999999778768222\n"
     ]
    }
   ],
   "source": [
    "using Optim\n",
    "f(x) = (x - 2)^3\n",
    "result = optimize(f, -10, 10)\n",
    "println(\"The minimum of the function is: \", result.minimum)\n",
    "println(\"The optimal x value is: \", result.minimizer)\n"
   ]
  },
  {
   "cell_type": "markdown",
   "id": "4d07fdb0",
   "metadata": {},
   "source": [
    "### Constrained optimization"
   ]
  },
  {
   "cell_type": "code",
   "execution_count": 91,
   "id": "f36b65b7",
   "metadata": {},
   "outputs": [
    {
     "name": "stdout",
     "output_type": "stream",
     "text": [
      "Optimal Solution: x = 6.666666666666667 y = 1.6666666666666665\n"
     ]
    }
   ],
   "source": [
    "using JuMP\n",
    "using GLPK\n",
    "\n",
    "m = Model(GLPK.Optimizer)\n",
    "\n",
    "# Define variables\n",
    "@variable(m, x >= 0)\n",
    "@variable(m, y >= 0)\n",
    "\n",
    "# Define constraints\n",
    "@constraint(m, x + 2y <= 10)\n",
    "@constraint(m, x - y <= 5)\n",
    "\n",
    "# Define objective function\n",
    "@objective(m, Max, 3x + 4y)\n",
    "\n",
    "# Solve the optimization problem\n",
    "optimize!(m)\n",
    "\n",
    "# Display the optimal solution\n",
    "println(\"Optimal Solution: x = \", value(x), \" y = $(value(y))\")"
   ]
  },
  {
   "cell_type": "markdown",
   "id": "1374abb7",
   "metadata": {},
   "source": [
    "### Root finding"
   ]
  },
  {
   "cell_type": "markdown",
   "id": "ae9a08ae",
   "metadata": {},
   "source": [
    "### Nonlinear equations"
   ]
  },
  {
   "cell_type": "markdown",
   "id": "7cd4af1c",
   "metadata": {},
   "source": [
    "### Interpolation"
   ]
  },
  {
   "cell_type": "markdown",
   "id": "bdea1ab3",
   "metadata": {},
   "source": [
    "### Differentiation"
   ]
  },
  {
   "cell_type": "markdown",
   "id": "6de07500",
   "metadata": {},
   "source": [
    "### Numerical linear algebra"
   ]
  },
  {
   "cell_type": "markdown",
   "id": "8e975bac",
   "metadata": {},
   "source": [
    "### ODE solvers"
   ]
  },
  {
   "cell_type": "markdown",
   "id": "760501d3",
   "metadata": {},
   "source": [
    "### Optimization algorithms"
   ]
  },
  {
   "cell_type": "markdown",
   "id": "25afa3ad",
   "metadata": {},
   "source": [
    "# Differential equations"
   ]
  },
  {
   "cell_type": "markdown",
   "id": "d3815595",
   "metadata": {},
   "source": [
    "# Interpolation and extrapolation"
   ]
  },
  {
   "cell_type": "markdown",
   "id": "aaf5b7ac",
   "metadata": {},
   "source": [
    "# Machine learning and artificial intelligence"
   ]
  },
  {
   "cell_type": "markdown",
   "id": "60980221",
   "metadata": {},
   "source": [
    "# Overview of machine learning and artificial intelligence"
   ]
  },
  {
   "cell_type": "markdown",
   "id": "865e1560",
   "metadata": {},
   "source": [
    "# Supervised learning and regression"
   ]
  },
  {
   "cell_type": "markdown",
   "id": "7e9d5e77",
   "metadata": {},
   "source": [
    "# Unsupervised learning and clustering"
   ]
  },
  {
   "cell_type": "markdown",
   "id": "f64aa07a",
   "metadata": {},
   "source": [
    "# Deep learning with Flux.jl"
   ]
  },
  {
   "cell_type": "markdown",
   "id": "90b70f5a",
   "metadata": {},
   "source": [
    "# Applications and case studies"
   ]
  },
  {
   "cell_type": "markdown",
   "id": "204d4610",
   "metadata": {},
   "source": [
    "# Case studies in various domains (e.g. finance, biology, engineering)"
   ]
  },
  {
   "cell_type": "markdown",
   "id": "85a6ba4b",
   "metadata": {},
   "source": [
    "# Best practices for software development and testing"
   ]
  },
  {
   "cell_type": "markdown",
   "id": "ae586ad0",
   "metadata": {},
   "source": [
    "# Profiling and performance optimization"
   ]
  },
  {
   "cell_type": "code",
   "execution_count": null,
   "id": "7999624f",
   "metadata": {},
   "outputs": [],
   "source": []
  }
 ],
 "metadata": {
  "kernelspec": {
   "display_name": "Julia 1.8.5",
   "language": "julia",
   "name": "julia-1.8"
  },
  "language_info": {
   "file_extension": ".jl",
   "mimetype": "application/julia",
   "name": "julia",
   "version": "1.8.5"
  }
 },
 "nbformat": 4,
 "nbformat_minor": 5
}
